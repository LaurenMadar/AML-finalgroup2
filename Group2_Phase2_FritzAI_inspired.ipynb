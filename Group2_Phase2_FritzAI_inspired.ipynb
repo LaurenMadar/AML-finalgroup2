{
 "cells": [
  {
   "cell_type": "markdown",
   "metadata": {
    "id": "e9YN0lR6rQky"
   },
   "source": [
    "# Group 2 Phase 2 - Cats vs Dogs Detector (CaDoD) \"FrankenNet\" SECONDARY notebook\n",
    "\n",
    "*Adapted from https://heartbeat.fritz.ai/basics-of-image-classification-with-pytorch-2f8973c51864*\n",
    "\n",
    "### This notebook is a work in progress and will feed into our final submission! See Group2_Phase2.ipynb for earlier Phase 2 work."
   ]
  },
  {
   "cell_type": "markdown",
   "metadata": {
    "id": "umODb86CKqIv"
   },
   "source": [
    "## Team Members\n",
    "\n",
    "* Ben Perkins\n",
    "* Lauren Madar\n",
    "* Mangesh Walimbe\n",
    "* Samin Barghan\n",
    "\n",
    "![](./other/team.png)"
   ]
  },
  {
   "cell_type": "code",
   "execution_count": null,
   "metadata": {
    "id": "aVTpZIqSPMAw"
   },
   "outputs": [],
   "source": [
    "# Import general modules\n",
    "import os\n",
    "import glob\n",
    "from time import time\n",
    "import numpy as np\n",
    "import pandas as pd\n",
    "import matplotlib.pyplot as plt\n",
    "import tarfile\n",
    "from tqdm.notebook import tqdm\n",
    "from PIL import Image\n",
    "import warnings\n",
    "\n",
    "# PyTorch Modules\n",
    "import torch\n",
    "import torch.nn\n",
    "import torch.nn.functional as F\n",
    "from torch.nn import ReLU\n",
    "from torch import nn, optim\n",
    "from torch.optim import Adam\n",
    "from torch.autograd import Variable\n",
    "import torch.utils\n",
    "from torch.utils.data import Dataset\n",
    "from torch.utils.data import DataLoader\n",
    "from torch.utils.data.sampler import SubsetRandomSampler\n",
    "from torch.utils.tensorboard import SummaryWriter\n",
    "import torchvision\n",
    "from torchvision import datasets, transforms, utils\n",
    "from torchvision.io import read_image"
   ]
  },
  {
   "cell_type": "code",
   "execution_count": null,
   "metadata": {
    "id": "TNf1vRLrQRW8"
   },
   "outputs": [],
   "source": [
    "def extract_tar(file, path):\n",
    "    \"\"\"\n",
    "    function to extract tar.gz files to specified location\n",
    "    \n",
    "    Args:\n",
    "        file (str): path where the file is located\n",
    "        path (str): path where you want to extract\n",
    "    \"\"\"\n",
    "    with tarfile.open(file) as tar:\n",
    "        files_extracted = 0\n",
    "        for member in tqdm(tar.getmembers()):\n",
    "            if os.path.isfile(path + member.name[1:]):\n",
    "                continue\n",
    "            else:\n",
    "                tar.extract(member, path)\n",
    "                files_extracted += 1\n",
    "        tar.close()\n",
    "        if files_extracted < 3:\n",
    "            print('Files already exist')"
   ]
  },
  {
   "cell_type": "code",
   "execution_count": null,
   "metadata": {
    "colab": {
     "base_uri": "https://localhost:8080/"
    },
    "executionInfo": {
     "elapsed": 260,
     "status": "ok",
     "timestamp": 1619562915629,
     "user": {
      "displayName": "Ben Perkins",
      "photoUrl": "https://lh3.googleusercontent.com/a-/AOh14GhDjhuCHr7EdkjRfINqQZaY91uAjiGApM1VtuTAiA=s64",
      "userId": "05410841608219003122"
     },
     "user_tz": 240
    },
    "id": "mrqLEk9LSPdo",
    "outputId": "526b7c19-ef28-4b60-e760-a17b4d34c187"
   },
   "outputs": [
    {
     "name": "stdout",
     "output_type": "stream",
     "text": [
      "Drive already mounted at /content/drive; to attempt to forcibly remount, call drive.mount(\"/content/drive\", force_remount=True).\n"
     ]
    }
   ],
   "source": [
    "from google.colab import drive\n",
    "drive.mount('/content/drive')"
   ]
  },
  {
   "cell_type": "code",
   "execution_count": null,
   "metadata": {
    "id": "iDkdquyBSTHi"
   },
   "outputs": [],
   "source": [
    "path = '/content/drive/MyDrive/Colab Notebooks/CatsNDogs/data/cadod/'\n",
    "\n",
    "#extract_tar('/content/drive/MyDrive/Colab Notebooks/CatsNDogs/data/cadod.tar.gz', path)"
   ]
  },
  {
   "cell_type": "code",
   "execution_count": null,
   "metadata": {
    "id": "FIi374qDScHo"
   },
   "outputs": [],
   "source": [
    "df = pd.read_csv('/content/drive/MyDrive/Colab Notebooks/CatsNDogs/cadod.csv')"
   ]
  },
  {
   "cell_type": "code",
   "execution_count": null,
   "metadata": {
    "colab": {
     "base_uri": "https://localhost:8080/",
     "height": 217
    },
    "executionInfo": {
     "elapsed": 265,
     "status": "ok",
     "timestamp": 1619562919814,
     "user": {
      "displayName": "Ben Perkins",
      "photoUrl": "https://lh3.googleusercontent.com/a-/AOh14GhDjhuCHr7EdkjRfINqQZaY91uAjiGApM1VtuTAiA=s64",
      "userId": "05410841608219003122"
     },
     "user_tz": 240
    },
    "id": "ATFdQOlgSvyZ",
    "outputId": "f5d5c1e8-c1dc-4478-8e18-5e357e3c73f7"
   },
   "outputs": [
    {
     "data": {
      "text/html": [
       "<div>\n",
       "<style scoped>\n",
       "    .dataframe tbody tr th:only-of-type {\n",
       "        vertical-align: middle;\n",
       "    }\n",
       "\n",
       "    .dataframe tbody tr th {\n",
       "        vertical-align: top;\n",
       "    }\n",
       "\n",
       "    .dataframe thead th {\n",
       "        text-align: right;\n",
       "    }\n",
       "</style>\n",
       "<table border=\"1\" class=\"dataframe\">\n",
       "  <thead>\n",
       "    <tr style=\"text-align: right;\">\n",
       "      <th></th>\n",
       "      <th>ImageID</th>\n",
       "      <th>Source</th>\n",
       "      <th>LabelName</th>\n",
       "      <th>Confidence</th>\n",
       "      <th>XMin</th>\n",
       "      <th>XMax</th>\n",
       "      <th>YMin</th>\n",
       "      <th>YMax</th>\n",
       "      <th>IsOccluded</th>\n",
       "      <th>IsTruncated</th>\n",
       "      <th>IsGroupOf</th>\n",
       "      <th>IsDepiction</th>\n",
       "      <th>IsInside</th>\n",
       "      <th>XClick1X</th>\n",
       "      <th>XClick2X</th>\n",
       "      <th>XClick3X</th>\n",
       "      <th>XClick4X</th>\n",
       "      <th>XClick1Y</th>\n",
       "      <th>XClick2Y</th>\n",
       "      <th>XClick3Y</th>\n",
       "      <th>XClick4Y</th>\n",
       "    </tr>\n",
       "  </thead>\n",
       "  <tbody>\n",
       "    <tr>\n",
       "      <th>0</th>\n",
       "      <td>0000b9fcba019d36</td>\n",
       "      <td>xclick</td>\n",
       "      <td>/m/0bt9lr</td>\n",
       "      <td>1</td>\n",
       "      <td>0.165000</td>\n",
       "      <td>0.903750</td>\n",
       "      <td>0.268333</td>\n",
       "      <td>0.998333</td>\n",
       "      <td>1</td>\n",
       "      <td>1</td>\n",
       "      <td>0</td>\n",
       "      <td>0</td>\n",
       "      <td>0</td>\n",
       "      <td>0.636250</td>\n",
       "      <td>0.903750</td>\n",
       "      <td>0.748750</td>\n",
       "      <td>0.165000</td>\n",
       "      <td>0.268333</td>\n",
       "      <td>0.506667</td>\n",
       "      <td>0.998333</td>\n",
       "      <td>0.661667</td>\n",
       "    </tr>\n",
       "    <tr>\n",
       "      <th>1</th>\n",
       "      <td>0000cb13febe0138</td>\n",
       "      <td>xclick</td>\n",
       "      <td>/m/0bt9lr</td>\n",
       "      <td>1</td>\n",
       "      <td>0.000000</td>\n",
       "      <td>0.651875</td>\n",
       "      <td>0.000000</td>\n",
       "      <td>0.999062</td>\n",
       "      <td>1</td>\n",
       "      <td>1</td>\n",
       "      <td>0</td>\n",
       "      <td>0</td>\n",
       "      <td>0</td>\n",
       "      <td>0.312500</td>\n",
       "      <td>0.000000</td>\n",
       "      <td>0.317500</td>\n",
       "      <td>0.651875</td>\n",
       "      <td>0.000000</td>\n",
       "      <td>0.410882</td>\n",
       "      <td>0.999062</td>\n",
       "      <td>0.999062</td>\n",
       "    </tr>\n",
       "    <tr>\n",
       "      <th>2</th>\n",
       "      <td>0005a9520eb22c19</td>\n",
       "      <td>xclick</td>\n",
       "      <td>/m/0bt9lr</td>\n",
       "      <td>1</td>\n",
       "      <td>0.094167</td>\n",
       "      <td>0.611667</td>\n",
       "      <td>0.055626</td>\n",
       "      <td>0.998736</td>\n",
       "      <td>1</td>\n",
       "      <td>1</td>\n",
       "      <td>0</td>\n",
       "      <td>0</td>\n",
       "      <td>0</td>\n",
       "      <td>0.487500</td>\n",
       "      <td>0.611667</td>\n",
       "      <td>0.243333</td>\n",
       "      <td>0.094167</td>\n",
       "      <td>0.055626</td>\n",
       "      <td>0.226296</td>\n",
       "      <td>0.998736</td>\n",
       "      <td>0.305942</td>\n",
       "    </tr>\n",
       "    <tr>\n",
       "      <th>3</th>\n",
       "      <td>0006303f02219b07</td>\n",
       "      <td>xclick</td>\n",
       "      <td>/m/0bt9lr</td>\n",
       "      <td>1</td>\n",
       "      <td>0.000000</td>\n",
       "      <td>0.999219</td>\n",
       "      <td>0.000000</td>\n",
       "      <td>0.998824</td>\n",
       "      <td>1</td>\n",
       "      <td>1</td>\n",
       "      <td>0</td>\n",
       "      <td>0</td>\n",
       "      <td>0</td>\n",
       "      <td>0.508594</td>\n",
       "      <td>0.999219</td>\n",
       "      <td>0.000000</td>\n",
       "      <td>0.478906</td>\n",
       "      <td>0.000000</td>\n",
       "      <td>0.375294</td>\n",
       "      <td>0.720000</td>\n",
       "      <td>0.998824</td>\n",
       "    </tr>\n",
       "    <tr>\n",
       "      <th>4</th>\n",
       "      <td>00064d23bf997652</td>\n",
       "      <td>xclick</td>\n",
       "      <td>/m/0bt9lr</td>\n",
       "      <td>1</td>\n",
       "      <td>0.240938</td>\n",
       "      <td>0.906183</td>\n",
       "      <td>0.000000</td>\n",
       "      <td>0.694286</td>\n",
       "      <td>0</td>\n",
       "      <td>0</td>\n",
       "      <td>0</td>\n",
       "      <td>0</td>\n",
       "      <td>0</td>\n",
       "      <td>0.678038</td>\n",
       "      <td>0.906183</td>\n",
       "      <td>0.240938</td>\n",
       "      <td>0.522388</td>\n",
       "      <td>0.000000</td>\n",
       "      <td>0.370000</td>\n",
       "      <td>0.424286</td>\n",
       "      <td>0.694286</td>\n",
       "    </tr>\n",
       "  </tbody>\n",
       "</table>\n",
       "</div>"
      ],
      "text/plain": [
       "            ImageID  Source  LabelName  ...  XClick2Y  XClick3Y  XClick4Y\n",
       "0  0000b9fcba019d36  xclick  /m/0bt9lr  ...  0.506667  0.998333  0.661667\n",
       "1  0000cb13febe0138  xclick  /m/0bt9lr  ...  0.410882  0.999062  0.999062\n",
       "2  0005a9520eb22c19  xclick  /m/0bt9lr  ...  0.226296  0.998736  0.305942\n",
       "3  0006303f02219b07  xclick  /m/0bt9lr  ...  0.375294  0.720000  0.998824\n",
       "4  00064d23bf997652  xclick  /m/0bt9lr  ...  0.370000  0.424286  0.694286\n",
       "\n",
       "[5 rows x 21 columns]"
      ]
     },
     "execution_count": 6,
     "metadata": {
      "tags": []
     },
     "output_type": "execute_result"
    }
   ],
   "source": [
    "df.head()"
   ]
  },
  {
   "cell_type": "code",
   "execution_count": null,
   "metadata": {
    "colab": {
     "base_uri": "https://localhost:8080/"
    },
    "executionInfo": {
     "elapsed": 300,
     "status": "ok",
     "timestamp": 1619562922347,
     "user": {
      "displayName": "Ben Perkins",
      "photoUrl": "https://lh3.googleusercontent.com/a-/AOh14GhDjhuCHr7EdkjRfINqQZaY91uAjiGApM1VtuTAiA=s64",
      "userId": "05410841608219003122"
     },
     "user_tz": 240
    },
    "id": "WDHBL_Itisgz",
    "outputId": "31537495-29c3-41d3-ce3e-1eaf4366187c"
   },
   "outputs": [
    {
     "data": {
      "text/plain": [
       "array(['/m/0bt9lr', '/m/01yrx'], dtype=object)"
      ]
     },
     "execution_count": 7,
     "metadata": {
      "tags": []
     },
     "output_type": "execute_result"
    }
   ],
   "source": [
    "df.LabelName.unique()"
   ]
  },
  {
   "cell_type": "markdown",
   "metadata": {
    "id": "7eJ9g4kTq8ZI"
   },
   "source": [
    "# Create train_csv.csv"
   ]
  },
  {
   "cell_type": "code",
   "execution_count": null,
   "metadata": {
    "id": "d8GRH7hclbef"
   },
   "outputs": [],
   "source": [
    "def label_img(row):\n",
    "    if row['LabelName'] == '/m/0bt9lr':\n",
    "        return 1\n",
    "    if row['LabelName'] == '/m/01yrx':\n",
    "        return 0\n"
   ]
  },
  {
   "cell_type": "code",
   "execution_count": null,
   "metadata": {
    "colab": {
     "base_uri": "https://localhost:8080/",
     "height": 217
    },
    "executionInfo": {
     "elapsed": 205,
     "status": "ok",
     "timestamp": 1619562927944,
     "user": {
      "displayName": "Ben Perkins",
      "photoUrl": "https://lh3.googleusercontent.com/a-/AOh14GhDjhuCHr7EdkjRfINqQZaY91uAjiGApM1VtuTAiA=s64",
      "userId": "05410841608219003122"
     },
     "user_tz": 240
    },
    "id": "MOQB96dZmzhC",
    "outputId": "353df8d6-5030-4ea4-ef31-1bff3009deff"
   },
   "outputs": [
    {
     "data": {
      "text/html": [
       "<div>\n",
       "<style scoped>\n",
       "    .dataframe tbody tr th:only-of-type {\n",
       "        vertical-align: middle;\n",
       "    }\n",
       "\n",
       "    .dataframe tbody tr th {\n",
       "        vertical-align: top;\n",
       "    }\n",
       "\n",
       "    .dataframe thead th {\n",
       "        text-align: right;\n",
       "    }\n",
       "</style>\n",
       "<table border=\"1\" class=\"dataframe\">\n",
       "  <thead>\n",
       "    <tr style=\"text-align: right;\">\n",
       "      <th></th>\n",
       "      <th>ImageID</th>\n",
       "      <th>Source</th>\n",
       "      <th>LabelName</th>\n",
       "      <th>Confidence</th>\n",
       "      <th>XMin</th>\n",
       "      <th>XMax</th>\n",
       "      <th>YMin</th>\n",
       "      <th>YMax</th>\n",
       "      <th>IsOccluded</th>\n",
       "      <th>IsTruncated</th>\n",
       "      <th>IsGroupOf</th>\n",
       "      <th>IsDepiction</th>\n",
       "      <th>IsInside</th>\n",
       "      <th>XClick1X</th>\n",
       "      <th>XClick2X</th>\n",
       "      <th>XClick3X</th>\n",
       "      <th>XClick4X</th>\n",
       "      <th>XClick1Y</th>\n",
       "      <th>XClick2Y</th>\n",
       "      <th>XClick3Y</th>\n",
       "      <th>XClick4Y</th>\n",
       "    </tr>\n",
       "  </thead>\n",
       "  <tbody>\n",
       "    <tr>\n",
       "      <th>0</th>\n",
       "      <td>0000b9fcba019d36</td>\n",
       "      <td>xclick</td>\n",
       "      <td>/m/0bt9lr</td>\n",
       "      <td>1</td>\n",
       "      <td>0.165000</td>\n",
       "      <td>0.903750</td>\n",
       "      <td>0.268333</td>\n",
       "      <td>0.998333</td>\n",
       "      <td>1</td>\n",
       "      <td>1</td>\n",
       "      <td>0</td>\n",
       "      <td>0</td>\n",
       "      <td>0</td>\n",
       "      <td>0.636250</td>\n",
       "      <td>0.903750</td>\n",
       "      <td>0.748750</td>\n",
       "      <td>0.165000</td>\n",
       "      <td>0.268333</td>\n",
       "      <td>0.506667</td>\n",
       "      <td>0.998333</td>\n",
       "      <td>0.661667</td>\n",
       "    </tr>\n",
       "    <tr>\n",
       "      <th>1</th>\n",
       "      <td>0000cb13febe0138</td>\n",
       "      <td>xclick</td>\n",
       "      <td>/m/0bt9lr</td>\n",
       "      <td>1</td>\n",
       "      <td>0.000000</td>\n",
       "      <td>0.651875</td>\n",
       "      <td>0.000000</td>\n",
       "      <td>0.999062</td>\n",
       "      <td>1</td>\n",
       "      <td>1</td>\n",
       "      <td>0</td>\n",
       "      <td>0</td>\n",
       "      <td>0</td>\n",
       "      <td>0.312500</td>\n",
       "      <td>0.000000</td>\n",
       "      <td>0.317500</td>\n",
       "      <td>0.651875</td>\n",
       "      <td>0.000000</td>\n",
       "      <td>0.410882</td>\n",
       "      <td>0.999062</td>\n",
       "      <td>0.999062</td>\n",
       "    </tr>\n",
       "    <tr>\n",
       "      <th>2</th>\n",
       "      <td>0005a9520eb22c19</td>\n",
       "      <td>xclick</td>\n",
       "      <td>/m/0bt9lr</td>\n",
       "      <td>1</td>\n",
       "      <td>0.094167</td>\n",
       "      <td>0.611667</td>\n",
       "      <td>0.055626</td>\n",
       "      <td>0.998736</td>\n",
       "      <td>1</td>\n",
       "      <td>1</td>\n",
       "      <td>0</td>\n",
       "      <td>0</td>\n",
       "      <td>0</td>\n",
       "      <td>0.487500</td>\n",
       "      <td>0.611667</td>\n",
       "      <td>0.243333</td>\n",
       "      <td>0.094167</td>\n",
       "      <td>0.055626</td>\n",
       "      <td>0.226296</td>\n",
       "      <td>0.998736</td>\n",
       "      <td>0.305942</td>\n",
       "    </tr>\n",
       "    <tr>\n",
       "      <th>3</th>\n",
       "      <td>0006303f02219b07</td>\n",
       "      <td>xclick</td>\n",
       "      <td>/m/0bt9lr</td>\n",
       "      <td>1</td>\n",
       "      <td>0.000000</td>\n",
       "      <td>0.999219</td>\n",
       "      <td>0.000000</td>\n",
       "      <td>0.998824</td>\n",
       "      <td>1</td>\n",
       "      <td>1</td>\n",
       "      <td>0</td>\n",
       "      <td>0</td>\n",
       "      <td>0</td>\n",
       "      <td>0.508594</td>\n",
       "      <td>0.999219</td>\n",
       "      <td>0.000000</td>\n",
       "      <td>0.478906</td>\n",
       "      <td>0.000000</td>\n",
       "      <td>0.375294</td>\n",
       "      <td>0.720000</td>\n",
       "      <td>0.998824</td>\n",
       "    </tr>\n",
       "    <tr>\n",
       "      <th>4</th>\n",
       "      <td>00064d23bf997652</td>\n",
       "      <td>xclick</td>\n",
       "      <td>/m/0bt9lr</td>\n",
       "      <td>1</td>\n",
       "      <td>0.240938</td>\n",
       "      <td>0.906183</td>\n",
       "      <td>0.000000</td>\n",
       "      <td>0.694286</td>\n",
       "      <td>0</td>\n",
       "      <td>0</td>\n",
       "      <td>0</td>\n",
       "      <td>0</td>\n",
       "      <td>0</td>\n",
       "      <td>0.678038</td>\n",
       "      <td>0.906183</td>\n",
       "      <td>0.240938</td>\n",
       "      <td>0.522388</td>\n",
       "      <td>0.000000</td>\n",
       "      <td>0.370000</td>\n",
       "      <td>0.424286</td>\n",
       "      <td>0.694286</td>\n",
       "    </tr>\n",
       "  </tbody>\n",
       "</table>\n",
       "</div>"
      ],
      "text/plain": [
       "            ImageID  Source  LabelName  ...  XClick2Y  XClick3Y  XClick4Y\n",
       "0  0000b9fcba019d36  xclick  /m/0bt9lr  ...  0.506667  0.998333  0.661667\n",
       "1  0000cb13febe0138  xclick  /m/0bt9lr  ...  0.410882  0.999062  0.999062\n",
       "2  0005a9520eb22c19  xclick  /m/0bt9lr  ...  0.226296  0.998736  0.305942\n",
       "3  0006303f02219b07  xclick  /m/0bt9lr  ...  0.375294  0.720000  0.998824\n",
       "4  00064d23bf997652  xclick  /m/0bt9lr  ...  0.370000  0.424286  0.694286\n",
       "\n",
       "[5 rows x 21 columns]"
      ]
     },
     "execution_count": 9,
     "metadata": {
      "tags": []
     },
     "output_type": "execute_result"
    }
   ],
   "source": [
    "df2 = df\n",
    "df2.head()"
   ]
  },
  {
   "cell_type": "code",
   "execution_count": null,
   "metadata": {
    "colab": {
     "base_uri": "https://localhost:8080/"
    },
    "executionInfo": {
     "elapsed": 386,
     "status": "ok",
     "timestamp": 1619562930845,
     "user": {
      "displayName": "Ben Perkins",
      "photoUrl": "https://lh3.googleusercontent.com/a-/AOh14GhDjhuCHr7EdkjRfINqQZaY91uAjiGApM1VtuTAiA=s64",
      "userId": "05410841608219003122"
     },
     "user_tz": 240
    },
    "id": "zyWY3_aSm_Zp",
    "outputId": "1bb995e9-58d6-4686-b6f6-7741e0ae5188"
   },
   "outputs": [
    {
     "data": {
      "text/plain": [
       "array([1, 0])"
      ]
     },
     "execution_count": 10,
     "metadata": {
      "tags": []
     },
     "output_type": "execute_result"
    }
   ],
   "source": [
    "df2['cdlabel'] = df2.apply(lambda row: label_img(row), axis=1)\n",
    "df2['cdlabel'].unique()"
   ]
  },
  {
   "cell_type": "code",
   "execution_count": null,
   "metadata": {
    "id": "4leTrZLYtldb"
   },
   "outputs": [],
   "source": [
    "df3 = pd.concat([df2['ImageID'], df2['cdlabel']], axis=1, keys=['ImageID', 'label'])"
   ]
  },
  {
   "cell_type": "code",
   "execution_count": null,
   "metadata": {
    "colab": {
     "base_uri": "https://localhost:8080/",
     "height": 197
    },
    "executionInfo": {
     "elapsed": 209,
     "status": "ok",
     "timestamp": 1619562933563,
     "user": {
      "displayName": "Ben Perkins",
      "photoUrl": "https://lh3.googleusercontent.com/a-/AOh14GhDjhuCHr7EdkjRfINqQZaY91uAjiGApM1VtuTAiA=s64",
      "userId": "05410841608219003122"
     },
     "user_tz": 240
    },
    "id": "lIPm_hAXsqCY",
    "outputId": "4a88c095-51e0-469e-e323-e2b05f80d994"
   },
   "outputs": [
    {
     "data": {
      "text/html": [
       "<div>\n",
       "<style scoped>\n",
       "    .dataframe tbody tr th:only-of-type {\n",
       "        vertical-align: middle;\n",
       "    }\n",
       "\n",
       "    .dataframe tbody tr th {\n",
       "        vertical-align: top;\n",
       "    }\n",
       "\n",
       "    .dataframe thead th {\n",
       "        text-align: right;\n",
       "    }\n",
       "</style>\n",
       "<table border=\"1\" class=\"dataframe\">\n",
       "  <thead>\n",
       "    <tr style=\"text-align: right;\">\n",
       "      <th></th>\n",
       "      <th>ImageID</th>\n",
       "      <th>label</th>\n",
       "    </tr>\n",
       "  </thead>\n",
       "  <tbody>\n",
       "    <tr>\n",
       "      <th>0</th>\n",
       "      <td>0000b9fcba019d36</td>\n",
       "      <td>1</td>\n",
       "    </tr>\n",
       "    <tr>\n",
       "      <th>1</th>\n",
       "      <td>0000cb13febe0138</td>\n",
       "      <td>1</td>\n",
       "    </tr>\n",
       "    <tr>\n",
       "      <th>2</th>\n",
       "      <td>0005a9520eb22c19</td>\n",
       "      <td>1</td>\n",
       "    </tr>\n",
       "    <tr>\n",
       "      <th>3</th>\n",
       "      <td>0006303f02219b07</td>\n",
       "      <td>1</td>\n",
       "    </tr>\n",
       "    <tr>\n",
       "      <th>4</th>\n",
       "      <td>00064d23bf997652</td>\n",
       "      <td>1</td>\n",
       "    </tr>\n",
       "  </tbody>\n",
       "</table>\n",
       "</div>"
      ],
      "text/plain": [
       "            ImageID  label\n",
       "0  0000b9fcba019d36      1\n",
       "1  0000cb13febe0138      1\n",
       "2  0005a9520eb22c19      1\n",
       "3  0006303f02219b07      1\n",
       "4  00064d23bf997652      1"
      ]
     },
     "execution_count": 12,
     "metadata": {
      "tags": []
     },
     "output_type": "execute_result"
    }
   ],
   "source": [
    "df3.head()"
   ]
  },
  {
   "cell_type": "code",
   "execution_count": null,
   "metadata": {
    "id": "sy8R3z5_5NmW"
   },
   "outputs": [],
   "source": [
    "df3.to_csv(r'train_csv.csv', index=False, header=True)"
   ]
  },
  {
   "cell_type": "markdown",
   "metadata": {
    "id": "3vqJPDWySw9l"
   },
   "source": [
    "# PyTorch Implementation"
   ]
  },
  {
   "cell_type": "code",
   "execution_count": null,
   "metadata": {
    "colab": {
     "base_uri": "https://localhost:8080/"
    },
    "executionInfo": {
     "elapsed": 249,
     "status": "ok",
     "timestamp": 1619562939083,
     "user": {
      "displayName": "Ben Perkins",
      "photoUrl": "https://lh3.googleusercontent.com/a-/AOh14GhDjhuCHr7EdkjRfINqQZaY91uAjiGApM1VtuTAiA=s64",
      "userId": "05410841608219003122"
     },
     "user_tz": 240
    },
    "id": "caDi8295az9W",
    "outputId": "25d1673d-f1ff-4b03-f738-f70085b64a47"
   },
   "outputs": [
    {
     "name": "stdout",
     "output_type": "stream",
     "text": [
      "cuda:0\n"
     ]
    }
   ],
   "source": [
    "# Configure device for GPU or CPU depending on what is available\n",
    "device = torch.device(\"cuda:0\" if torch.cuda.is_available() else \"cpu\")\n",
    "print(device)"
   ]
  },
  {
   "cell_type": "markdown",
   "metadata": {
    "id": "9JBwlBy6he4n"
   },
   "source": [
    "# Old Custom Dataset"
   ]
  },
  {
   "cell_type": "code",
   "execution_count": null,
   "metadata": {
    "id": "v3wwa24-bLCe"
   },
   "outputs": [],
   "source": [
    "# #PyTorch expects a dataset class to call its methods\n",
    "# ##some of the finer details can be found here <https://pytorch.org/tutorials/intermediate/torchvision_tutorial.html>\n",
    " \n",
    "# class CustomDataset(Dataset):\n",
    "#     def __init__(self, csv_file, root_dir, transform):\n",
    "#         self.root_dir = root_dir\n",
    "#         self.samples = pd.read_csv(csv_file)\n",
    "#         #torch pipeline to transform images to tensors\n",
    "#         self.transform = transform\n",
    " \n",
    "#     def __len__(self):\n",
    "#         return len(self.samples)\n",
    " \n",
    "#     #Return the image(as a tensor) and the target(dictionary of tensors)\n",
    "#     def __getitem__(self, idx):\n",
    "#       cat_label = '/m/01yrx'\n",
    "#       img_name = os.path.join(self.root_dir, self.samples.iloc[idx,0]+'.jpg')\n",
    "#       image = Image.open(img_name).convert('RGB')   # OR: image = io.imread(img_name)?\n",
    "      \n",
    "#       if self.transform:\n",
    "#         image = self.transform(image)\n",
    "   \n",
    "#       if self.samples.iloc[idx,2] == cat_label:\n",
    "#         label = torch.as_tensor(0, dtype = torch.int64)\n",
    "#       else:\n",
    "#         label = torch.as_tensor(1, dtype = torch.int64)\n",
    "     \n",
    "#       image_id = torch.as_tensor(idx, dtype = torch.int64)\n",
    "      \n",
    "#       ##save that box as a tensor\n",
    "#       box = torch.as_tensor([self.samples.iloc[idx, 4]\n",
    "#              , self.samples.iloc[idx, 6]\n",
    "#              , self.samples.iloc[idx, 5]\n",
    "#              , self.samples.iloc[idx, 7]], dtype = torch.float32)\n",
    "#       area = [(self.samples.iloc[idx, 5] - self.samples.iloc[idx, 4]) * (self.samples.iloc[idx, 7] - self.samples.iloc[idx, 6])]\n",
    "#       area_at = torch.as_tensor(area, dtype = torch.float32)\n",
    "     \n",
    "#       #iscrowd = torch.zeros((1,), dtype=torch.int64)\n",
    "      \n",
    "#       target = {}\n",
    "#       target['boxes'] = box\n",
    "#       target['labels'] = label\n",
    "#       target['image_id'] = image_id\n",
    "#       target['area'] = area_at\n",
    "#     #   target['iscrowd'] = iscrowd\n",
    "      \n",
    "#       return image, target"
   ]
  },
  {
   "cell_type": "markdown",
   "metadata": {
    "id": "9RoBZjYN6taY"
   },
   "source": [
    "# Create Custom Dataset"
   ]
  },
  {
   "cell_type": "code",
   "execution_count": null,
   "metadata": {
    "id": "eNWk1VyA6yEU"
   },
   "outputs": [],
   "source": [
    "class CustomDataload(Dataset):\n",
    "    def __init__(self, root_dir, annotation_file, transform=None):\n",
    "        self.root_dir = root_dir\n",
    "        self.annotations = pd.read_csv(annotation_file)\n",
    "        self.transform = transform\n",
    "\n",
    "    def __len__(self):\n",
    "        return len(self.annotations)\n",
    "\n",
    "    def __getitem__(self, index):\n",
    "        img_id = self.annotations.iloc[index, 0]\n",
    "        img = Image.open(os.path.join(self.root_dir, img_id+'.jpg')).convert(\"RGB\")\n",
    "        y_label = torch.tensor(self.annotations.iloc[index, 1])\n",
    "       \n",
    "        if self.transform is not None:\n",
    "            img = self.transform(img)\n",
    "\n",
    "        return (img, y_label)\n"
   ]
  },
  {
   "cell_type": "code",
   "execution_count": null,
   "metadata": {
    "id": "TOYTBPg7dZr2"
   },
   "outputs": [],
   "source": [
    "#Set training set transform process on PIL Image item from custom dataset \n",
    "train_transform = transforms.Compose([\n",
    "    # transforms.Grayscale(num_output_channels=1),\n",
    "    transforms.Resize((32,32)),\n",
    "    transforms.ToTensor(),\n",
    "    # transforms.Normalize((0.5,0.5,0.5), (0.5,0.5,0.5))\n",
    "])\n",
    "\n",
    "# Set test set transformations:\n",
    "test_transform = transforms.Compose([\n",
    "    transforms.ToTensor(),\n",
    "    transforms.Normalize((0.5,0.5,0.5), (0.5,0.5,0.5))\n",
    "])\n",
    "\n",
    "\n",
    "train_file = 'train_csv.csv'\n",
    "img_dir = '/content/drive/MyDrive/Colab Notebooks/CatsNDogs/data/cadod/'\n",
    "\n",
    "all_data = CustomDataload(root_dir=img_dir, annotation_file=train_file, transform=train_transform)"
   ]
  },
  {
   "cell_type": "code",
   "execution_count": null,
   "metadata": {
    "id": "U1A1gsIL0yxx"
   },
   "outputs": [],
   "source": [
    "batch_size = 64\n",
    "# shuffle = True\n",
    "# test_split = .2\n",
    " \n",
    "# dataset_size = len(all_data)\n",
    "# indices = list(range(dataset_size))\n",
    " \n",
    "# split = int(np.floor(test_split * dataset_size))\n",
    "# np.random.seed(27)\n",
    "# np.random.shuffle(indices)\n",
    " \n",
    "# train_indices, test_indices = indices[split:], indices[:split]\n",
    " \n",
    "# #call the subset sampler to sample our data\n",
    "# train_sampler = SubsetRandomSampler(train_indices) #random sample for the indices for training data and test data\n",
    "# test_sampler = SubsetRandomSampler(test_indices)\n",
    "\n",
    "num_train = int(len(all_data) * 0.8)\n",
    "train_set, test_set = torch.utils.data.random_split(all_data, [num_train, len(all_data) - num_train])\n",
    "\n",
    "# Make Train Loader:\n",
    "train_dataloader = DataLoader(train_set, shuffle=True, batch_size=batch_size)\n",
    "                                  \n",
    "# Make test loader:\n",
    "test_dataloader = DataLoader(test_set, shuffle=False, batch_size=batch_size)"
   ]
  },
  {
   "cell_type": "markdown",
   "metadata": {
    "id": "dc3cDyUrzzgy"
   },
   "source": [
    "# Define the Model"
   ]
  },
  {
   "cell_type": "code",
   "execution_count": null,
   "metadata": {
    "id": "cKj1Xx_Dz7Q-"
   },
   "outputs": [],
   "source": [
    "class Unit(nn.Module):\n",
    "    def __init__(self, in_channels, out_channels):\n",
    "        super(Unit, self).__init__()\n",
    "\n",
    "        self.conv = nn.Conv2d(in_channels=in_channels, kernel_size=3, \n",
    "                              out_channels=out_channels, stride=1, padding=1)\n",
    "        self.bn = nn.BatchNorm2d(num_features=out_channels)\n",
    "        self.relu = nn.ReLU()\n",
    "\n",
    "    def forward(self, input):\n",
    "        output = self.conv(input)\n",
    "        output = self.bn(output)\n",
    "        output = self.relu(output)\n",
    "\n",
    "        return output\n",
    "\n",
    "class ImgNet(nn.Module):\n",
    "    def __init__(self, num_classes):\n",
    "        super(ImgNet, self).__init__()\n",
    "\n",
    "         #Create 14 layers of the unit with max pooling in between\n",
    "        self.unit1 = Unit(in_channels=3,out_channels=32)\n",
    "        self.unit2 = Unit(in_channels=32, out_channels=32)\n",
    "        self.unit3 = Unit(in_channels=32, out_channels=32)\n",
    "\n",
    "        self.pool1 = nn.MaxPool2d(kernel_size=2)\n",
    "\n",
    "        self.unit4 = Unit(in_channels=32, out_channels=64)\n",
    "        self.unit5 = Unit(in_channels=64, out_channels=64)\n",
    "        self.unit6 = Unit(in_channels=64, out_channels=64)\n",
    "        self.unit7 = Unit(in_channels=64, out_channels=64)\n",
    "\n",
    "        self.pool2 = nn.MaxPool2d(kernel_size=2)\n",
    "\n",
    "        self.unit8 = Unit(in_channels=64, out_channels=128)\n",
    "        self.unit9 = Unit(in_channels=128, out_channels=128)\n",
    "        self.unit10 = Unit(in_channels=128, out_channels=128)\n",
    "        self.unit11 = Unit(in_channels=128, out_channels=128)\n",
    "\n",
    "        self.pool3 = nn.MaxPool2d(kernel_size=2)\n",
    "\n",
    "        self.unit12 = Unit(in_channels=128, out_channels=128)\n",
    "        self.unit13 = Unit(in_channels=128, out_channels=128)\n",
    "        self.unit14 = Unit(in_channels=128, out_channels=128)\n",
    "\n",
    "        self.avgpool = nn.AvgPool2d(kernel_size=4)\n",
    "        \n",
    "        #Add all the units into the Sequential layer in exact order\n",
    "        self.net = nn.Sequential(self.unit1, self.unit2, self.unit3, self.pool1, \n",
    "                                 self.unit4, self.unit5, self.unit6 \n",
    "                                 ,self.unit7, self.pool2, self.unit8, \n",
    "                                 self.unit9, self.unit10, self.unit11, self.pool3,\n",
    "                                 self.unit12, self.unit13, self.unit14, self.avgpool)\n",
    "        \n",
    "        self.fc = nn.Linear(in_features=128, out_features=num_classes)\n",
    "\n",
    "    def forward(self, input):\n",
    "        output = self.net(input)\n",
    "        output = output.view(-1,128)\n",
    "        output = self.fc(output)\n",
    "        return output\n"
   ]
  },
  {
   "cell_type": "markdown",
   "metadata": {
    "id": "88MBNzvRxYEO"
   },
   "source": [
    "# Train Model"
   ]
  },
  {
   "cell_type": "code",
   "execution_count": null,
   "metadata": {
    "id": "ndQUnoXExZ_B"
   },
   "outputs": [],
   "source": [
    "from torch.optim import Adam\n",
    "\n",
    "cuda_avail = torch.cuda.is_available()\n",
    "\n",
    "model = ImgNet(num_classes=2)\n",
    "\n",
    "if cuda_avail:\n",
    "    model.cuda()\n",
    "\n",
    "optimizer = Adam(model.parameters(), lr=0.001, weight_decay=0.0001)\n",
    "loss_fn = nn.CrossEntropyLoss()"
   ]
  },
  {
   "cell_type": "code",
   "execution_count": null,
   "metadata": {
    "colab": {
     "base_uri": "https://localhost:8080/"
    },
    "executionInfo": {
     "elapsed": 609,
     "status": "ok",
     "timestamp": 1619562972503,
     "user": {
      "displayName": "Ben Perkins",
      "photoUrl": "https://lh3.googleusercontent.com/a-/AOh14GhDjhuCHr7EdkjRfINqQZaY91uAjiGApM1VtuTAiA=s64",
      "userId": "05410841608219003122"
     },
     "user_tz": 240
    },
    "id": "iOqL5O1ogNCd",
    "outputId": "871f1498-2880-4359-d4df-f3cb9580750a"
   },
   "outputs": [
    {
     "name": "stdout",
     "output_type": "stream",
     "text": [
      "unit1.conv.weight \t torch.Size([32, 3, 3, 3])\n",
      "unit1.conv.bias \t torch.Size([32])\n",
      "unit1.bn.weight \t torch.Size([32])\n",
      "unit1.bn.bias \t torch.Size([32])\n",
      "unit2.conv.weight \t torch.Size([32, 32, 3, 3])\n",
      "unit2.conv.bias \t torch.Size([32])\n",
      "unit2.bn.weight \t torch.Size([32])\n",
      "unit2.bn.bias \t torch.Size([32])\n",
      "unit3.conv.weight \t torch.Size([32, 32, 3, 3])\n",
      "unit3.conv.bias \t torch.Size([32])\n",
      "unit3.bn.weight \t torch.Size([32])\n",
      "unit3.bn.bias \t torch.Size([32])\n",
      "unit4.conv.weight \t torch.Size([64, 32, 3, 3])\n",
      "unit4.conv.bias \t torch.Size([64])\n",
      "unit4.bn.weight \t torch.Size([64])\n",
      "unit4.bn.bias \t torch.Size([64])\n",
      "unit5.conv.weight \t torch.Size([64, 64, 3, 3])\n",
      "unit5.conv.bias \t torch.Size([64])\n",
      "unit5.bn.weight \t torch.Size([64])\n",
      "unit5.bn.bias \t torch.Size([64])\n",
      "unit6.conv.weight \t torch.Size([64, 64, 3, 3])\n",
      "unit6.conv.bias \t torch.Size([64])\n",
      "unit6.bn.weight \t torch.Size([64])\n",
      "unit6.bn.bias \t torch.Size([64])\n",
      "unit7.conv.weight \t torch.Size([64, 64, 3, 3])\n",
      "unit7.conv.bias \t torch.Size([64])\n",
      "unit7.bn.weight \t torch.Size([64])\n",
      "unit7.bn.bias \t torch.Size([64])\n",
      "unit8.conv.weight \t torch.Size([128, 64, 3, 3])\n",
      "unit8.conv.bias \t torch.Size([128])\n",
      "unit8.bn.weight \t torch.Size([128])\n",
      "unit8.bn.bias \t torch.Size([128])\n",
      "unit9.conv.weight \t torch.Size([128, 128, 3, 3])\n",
      "unit9.conv.bias \t torch.Size([128])\n",
      "unit9.bn.weight \t torch.Size([128])\n",
      "unit9.bn.bias \t torch.Size([128])\n",
      "unit10.conv.weight \t torch.Size([128, 128, 3, 3])\n",
      "unit10.conv.bias \t torch.Size([128])\n",
      "unit10.bn.weight \t torch.Size([128])\n",
      "unit10.bn.bias \t torch.Size([128])\n",
      "unit11.conv.weight \t torch.Size([128, 128, 3, 3])\n",
      "unit11.conv.bias \t torch.Size([128])\n",
      "unit11.bn.weight \t torch.Size([128])\n",
      "unit11.bn.bias \t torch.Size([128])\n",
      "unit12.conv.weight \t torch.Size([128, 128, 3, 3])\n",
      "unit12.conv.bias \t torch.Size([128])\n",
      "unit12.bn.weight \t torch.Size([128])\n",
      "unit12.bn.bias \t torch.Size([128])\n",
      "unit13.conv.weight \t torch.Size([128, 128, 3, 3])\n",
      "unit13.conv.bias \t torch.Size([128])\n",
      "unit13.bn.weight \t torch.Size([128])\n",
      "unit13.bn.bias \t torch.Size([128])\n",
      "unit14.conv.weight \t torch.Size([128, 128, 3, 3])\n",
      "unit14.conv.bias \t torch.Size([128])\n",
      "unit14.bn.weight \t torch.Size([128])\n",
      "unit14.bn.bias \t torch.Size([128])\n",
      "fc.weight \t torch.Size([2, 128])\n",
      "fc.bias \t torch.Size([2])\n"
     ]
    }
   ],
   "source": [
    "for name, param in model.named_parameters():\n",
    "  print(name, '\\t', param.shape)"
   ]
  },
  {
   "cell_type": "code",
   "execution_count": null,
   "metadata": {
    "id": "fXGNQXNjgTFH"
   },
   "outputs": [],
   "source": [
    "# Check for available GPU for modelNN:\n",
    "if torch.cuda.is_available():\n",
    "    model.cuda()"
   ]
  },
  {
   "cell_type": "markdown",
   "metadata": {
    "id": "GJUSANJXjAbq"
   },
   "source": [
    "**Maybe a learning rate adjuster??**"
   ]
  },
  {
   "cell_type": "code",
   "execution_count": null,
   "metadata": {
    "id": "k-FXpPo-jFyd"
   },
   "outputs": [],
   "source": [
    "# https://heartbeat.fritz.ai/basics-of-image-classification-with-pytorch-2f8973c51864\n",
    "\n",
    "# # Create a learning rate adjustment function that divides the learning rate by 10 every 30 epochs\n",
    "# def adjust_learning_rate(epoch):\n",
    "#     lr = 0.001\n",
    "\n",
    "#     if epoch > 180:\n",
    "#         lr = lr / 1000000\n",
    "#     elif epoch > 150:\n",
    "#         lr = lr / 100000\n",
    "#     elif epoch > 120:\n",
    "#         lr = lr / 10000\n",
    "#     elif epoch > 90:\n",
    "#         lr = lr / 1000\n",
    "#     elif epoch > 60:\n",
    "#         lr = lr / 100\n",
    "#     elif epoch > 30:\n",
    "#         lr = lr / 10\n",
    "\n",
    "#     for param_group in optimizer.param_groups:\n",
    "#         param_group[\"lr\"] = lr\n"
   ]
  },
  {
   "cell_type": "markdown",
   "metadata": {
    "id": "_xccbVrhrlY4"
   },
   "source": [
    "### Test Function"
   ]
  },
  {
   "cell_type": "code",
   "execution_count": null,
   "metadata": {
    "id": "Mr3dpvTmrkCl"
   },
   "outputs": [],
   "source": [
    "def save_models(epoch):\n",
    "    torch.save(model.state_dict(), \"cadodModel_{}.model\".format(epoch))\n",
    "    print(\"Checkpoint saved\")"
   ]
  },
  {
   "cell_type": "code",
   "execution_count": null,
   "metadata": {
    "id": "G1vNdqPxr6yO"
   },
   "outputs": [],
   "source": [
    "def test():\n",
    "    model.eval()\n",
    "    test_acc = 0.0\n",
    "    for i, (images, labels) in enumerate(test_dataloader):\n",
    "\n",
    "        if cuda_avail:\n",
    "            images = Variable(images.cuda())\n",
    "            labels = Variable(labels.cuda())\n",
    "\n",
    "        outputs = model(images)\n",
    "        _, prediction = torch.max(outputs.data, 1)\n",
    "\n",
    "        test_acc += torch.sum(prediction == labels.data)\n",
    "\n",
    "    test_acc = test_acc / 2593\n",
    "\n",
    "    return test_acc"
   ]
  },
  {
   "cell_type": "markdown",
   "metadata": {
    "id": "K-SgHCKE4Zar"
   },
   "source": [
    "# Train Function"
   ]
  },
  {
   "cell_type": "code",
   "execution_count": null,
   "metadata": {
    "id": "-vgtNp-Ky_O-"
   },
   "outputs": [],
   "source": [
    "# https://heartbeat.fritz.ai/basics-of-image-classification-with-pytorch-2f8973c51864\n",
    "\n",
    "def train(num_epochs):\n",
    "    best_acc = 0.0\n",
    "\n",
    "    for epoch in range(num_epochs):\n",
    "        model.train()\n",
    "        train_acc = 0.0\n",
    "        train_loss = 0.0\n",
    "        for i, (images, labels) in enumerate(train_dataloader):\n",
    "            # Move images and labels to gpu if available\n",
    "            if cuda_avail:\n",
    "                images = Variable(images.cuda())\n",
    "                labels = Variable(labels.cuda())\n",
    "\n",
    "            # Clear all accumulated gradients\n",
    "            optimizer.zero_grad()\n",
    "            # Predict classes using images from the test set\n",
    "            outputs = model(images)\n",
    "            # Compute the loss based on the predictions and actual labels\n",
    "            loss = loss_fn(outputs, labels)\n",
    "            # Backpropagate the loss\n",
    "            loss.backward()\n",
    "\n",
    "            # Adjust parameters according to the computed gradients\n",
    "            optimizer.step()\n",
    "\n",
    "            train_loss += loss.cpu().data * images.size(0)\n",
    "            _, prediction = torch.max(outputs.data, 1)\n",
    "            \n",
    "            train_acc += torch.sum(prediction == labels.data)\n",
    "\n",
    "        # Call the learning rate adjustment function\n",
    "        # adjust_learning_rate(epoch)\n",
    "\n",
    "        # Compute the average acc and loss over all 50000 training images\n",
    "        train_acc = train_acc / num_train\n",
    "        train_loss = train_loss / num_train\n",
    "\n",
    "        # Evaluate on the test set\n",
    "        test_acc = test()\n",
    "\n",
    "        # Save the model if the test acc is greater than our current best\n",
    "        if test_acc > best_acc:\n",
    "            save_models(epoch)\n",
    "            best_acc = test_acc\n",
    "\n",
    "        # Print the metrics\n",
    "        print(\"Epoch {}, Train Accuracy: {} , TrainLoss: {} , Test Accuracy: {}\".format(epoch,\n",
    "                                                                                        train_acc,\n",
    "                                                                                        train_loss,\n",
    "                                                                                        test_acc))\n",
    "                        "
   ]
  },
  {
   "cell_type": "markdown",
   "metadata": {
    "id": "zlkNI8ag0Bz0"
   },
   "source": [
    "# Run Tests"
   ]
  },
  {
   "cell_type": "code",
   "execution_count": null,
   "metadata": {
    "colab": {
     "base_uri": "https://localhost:8080/"
    },
    "executionInfo": {
     "elapsed": 2181151,
     "status": "ok",
     "timestamp": 1619565393626,
     "user": {
      "displayName": "Ben Perkins",
      "photoUrl": "https://lh3.googleusercontent.com/a-/AOh14GhDjhuCHr7EdkjRfINqQZaY91uAjiGApM1VtuTAiA=s64",
      "userId": "05410841608219003122"
     },
     "user_tz": 240
    },
    "id": "5bSPU0XQ0G8Z",
    "outputId": "42cffadc-7911-4cd3-8987-d4004930fd7b"
   },
   "outputs": [
    {
     "name": "stdout",
     "output_type": "stream",
     "text": [
      "Checkpoint saved\n",
      "Epoch 0, Train Accuracy: 0.6045121550559998 , TrainLoss: 0.6590253114700317 , Test Accuracy: 0.5715387463569641\n",
      "Checkpoint saved\n",
      "Epoch 1, Train Accuracy: 0.6396066546440125 , TrainLoss: 0.6375046968460083 , Test Accuracy: 0.6263015866279602\n",
      "Checkpoint saved\n",
      "Epoch 2, Train Accuracy: 0.6699768900871277 , TrainLoss: 0.6082920432090759 , Test Accuracy: 0.6556112766265869\n",
      "Checkpoint saved\n",
      "Epoch 3, Train Accuracy: 0.6849209666252136 , TrainLoss: 0.5898261666297913 , Test Accuracy: 0.6826070547103882\n",
      "Checkpoint saved\n",
      "Epoch 4, Train Accuracy: 0.7014076709747314 , TrainLoss: 0.5684621334075928 , Test Accuracy: 0.6976475119590759\n",
      "Epoch 5, Train Accuracy: 0.719244122505188 , TrainLoss: 0.5496002435684204 , Test Accuracy: 0.5696104764938354\n",
      "Checkpoint saved\n",
      "Epoch 6, Train Accuracy: 0.7399730086326599 , TrainLoss: 0.5256680250167847 , Test Accuracy: 0.710374116897583\n",
      "Epoch 7, Train Accuracy: 0.7544350624084473 , TrainLoss: 0.4973798096179962 , Test Accuracy: 0.6980332136154175\n",
      "Checkpoint saved\n",
      "Epoch 8, Train Accuracy: 0.7708253264427185 , TrainLoss: 0.47417622804641724 , Test Accuracy: 0.7261859178543091\n",
      "Checkpoint saved\n",
      "Epoch 9, Train Accuracy: 0.7803702354431152 , TrainLoss: 0.4543822407722473 , Test Accuracy: 0.73081374168396\n",
      "Epoch 10, Train Accuracy: 0.7998457551002502 , TrainLoss: 0.4258652925491333 , Test Accuracy: 0.7150019407272339\n",
      "Epoch 11, Train Accuracy: 0.8110297322273254 , TrainLoss: 0.4077138900756836 , Test Accuracy: 0.7296568155288696\n",
      "Epoch 12, Train Accuracy: 0.8300231695175171 , TrainLoss: 0.3751302659511566 , Test Accuracy: 0.7211723923683167\n",
      "Epoch 13, Train Accuracy: 0.8417856097221375 , TrainLoss: 0.34607094526290894 , Test Accuracy: 0.7146162986755371\n",
      "Epoch 14, Train Accuracy: 0.843135416507721 , TrainLoss: 0.34236031770706177 , Test Accuracy: 0.6721943616867065\n",
      "Epoch 15, Train Accuracy: 0.8741804957389832 , TrainLoss: 0.28491416573524475 , Test Accuracy: 0.7057462334632874\n",
      "Checkpoint saved\n",
      "Epoch 16, Train Accuracy: 0.8897994756698608 , TrainLoss: 0.2558192312717438 , Test Accuracy: 0.7327420115470886\n",
      "Epoch 17, Train Accuracy: 0.9025260806083679 , TrainLoss: 0.22740435600280762 , Test Accuracy: 0.7115310430526733\n",
      "Epoch 18, Train Accuracy: 0.9012726545333862 , TrainLoss: 0.23021003603935242 , Test Accuracy: 0.6972618699073792\n",
      "Epoch 19, Train Accuracy: 0.9162167906761169 , TrainLoss: 0.19337299466133118 , Test Accuracy: 0.7173158526420593\n",
      "Epoch 20, Train Accuracy: 0.9377169609069824 , TrainLoss: 0.15031205117702484 , Test Accuracy: 0.7327420115470886\n",
      "Epoch 21, Train Accuracy: 0.9498650431632996 , TrainLoss: 0.12443780899047852 , Test Accuracy: 0.7157732248306274\n",
      "Epoch 22, Train Accuracy: 0.9573853015899658 , TrainLoss: 0.107574462890625 , Test Accuracy: 0.6721943616867065\n",
      "Epoch 23, Train Accuracy: 0.8911492824554443 , TrainLoss: 0.263395220041275 , Test Accuracy: 0.7311993837356567\n",
      "Epoch 24, Train Accuracy: 0.9578673839569092 , TrainLoss: 0.10579925030469894 , Test Accuracy: 0.7265715599060059\n",
      "Epoch 25, Train Accuracy: 0.9668338298797607 , TrainLoss: 0.08993344008922577 , Test Accuracy: 0.7188584804534912\n",
      "Epoch 26, Train Accuracy: 0.971943736076355 , TrainLoss: 0.07741402834653854 , Test Accuracy: 0.7284998297691345\n",
      "Epoch 27, Train Accuracy: 0.9709795713424683 , TrainLoss: 0.07664796710014343 , Test Accuracy: 0.6976475119590759\n",
      "Checkpoint saved\n",
      "Epoch 28, Train Accuracy: 0.9559391140937805 , TrainLoss: 0.11760694533586502 , Test Accuracy: 0.7335132956504822\n",
      "Epoch 29, Train Accuracy: 0.9817779064178467 , TrainLoss: 0.0529484860599041 , Test Accuracy: 0.7311993837356567\n",
      "Epoch 30, Train Accuracy: 0.9830312728881836 , TrainLoss: 0.05024225637316704 , Test Accuracy: 0.6814500689506531\n",
      "Epoch 31, Train Accuracy: 0.9659661054611206 , TrainLoss: 0.09452364593744278 , Test Accuracy: 0.7292711138725281\n",
      "Epoch 32, Train Accuracy: 0.9573853015899658 , TrainLoss: 0.1141640692949295 , Test Accuracy: 0.707674503326416\n",
      "Epoch 33, Train Accuracy: 0.9843810796737671 , TrainLoss: 0.04435774311423302 , Test Accuracy: 0.7126880288124084\n",
      "Checkpoint saved\n",
      "Epoch 34, Train Accuracy: 0.9788854718208313 , TrainLoss: 0.05941368266940117 , Test Accuracy: 0.7423833608627319\n"
     ]
    }
   ],
   "source": [
    "if __name__ == '__main__':\n",
    "    train(35)\n",
    "\n"
   ]
  },
  {
   "cell_type": "code",
   "execution_count": null,
   "metadata": {
    "id": "-a4wD2dzHwog"
   },
   "outputs": [],
   "source": []
  },
  {
   "cell_type": "markdown",
   "metadata": {
    "id": "wexEbAmMjToN"
   },
   "source": [
    "### Olde Train Function"
   ]
  },
  {
   "cell_type": "code",
   "execution_count": null,
   "metadata": {
    "id": "dh0EVq7C3CUy"
   },
   "outputs": [],
   "source": [
    "# # Train function from lab demo\n",
    "# def train(net, trainloader, testloader, epochs, log_dir1=None, log_dir2=None):\n",
    "#   writer = SummaryWriter(log_dir1)\n",
    "#   writer2 = SummaryWriter(log_dir2)\n",
    "\n",
    "#   criterion1 = nn.NLLLoss()\n",
    "#   criterion2 = nn.MSELoss()\n",
    "\n",
    "#   device = torch.device(\"cuda\" if torch.cuda.is_available() else \"cpu\")\n",
    "\n",
    "#   optimizer = Adam(net.parameters(), lr=0.001, weight_decay=0)\n",
    "#   net.to(device)\n",
    "\n",
    "# #   # Check for available GPU for modelNN:\n",
    "# #   if torch.cuda.is_available():\n",
    "# #       net.to(device)\n",
    "\n",
    "#   train_accuracy = [0] * epochs\n",
    "#   test_accuracy = [0] * epochs\n",
    "#   train_loss = [0] * epochs\n",
    "#   test_loss = [0] * epochs\n",
    "\n",
    "#   for epoch in tqdm(range(epochs)):\n",
    "#     correct = 0\n",
    "#     total = 0\n",
    "#     running_loss = 0\n",
    "\n",
    "#     correct_val = 0\n",
    "#     total_val=0\n",
    "#     running_loss_val = 0\n",
    "\n",
    "#     for batch_idx, (images, data) in enumerate(trainloader):\n",
    "\n",
    "#         inputs, labels, bbox = images.to(device), data['labels'].to(device), data['boxes'].to(device)\n",
    "#         optimizer.zero_grad()\n",
    "\n",
    "#         outputs1, outputs2 = net(inputs) #forward pass # classification # regression\n",
    "\n",
    "#         _, predicted = torch.max(outputs1.data,1) #class\n",
    "#         predicted.to(device)\n",
    "#         total += labels.size(0)\n",
    "#         correct += (predicted == labels).sum().item()\n",
    "\n",
    "#         CXE = criterion1(outputs1, labels) #NLL\n",
    "#         MSE = criterion2(outputs2, bbox.float()) #MSE\n",
    "\n",
    "#         # add weights\n",
    "#         loss = CXE + MSE # combined loss, add a multiplier to either to weight.\n",
    "#         loss.backward() #backward pass\n",
    "#         optimizer.step()\n",
    "#         running_loss += loss.item()\n",
    "\n",
    "#     #validation\n",
    "#     with torch.no_grad():\n",
    "#       for data_val in testloader:\n",
    "#         images_val, labels_val, other_val = data_val[0].to(device), data_val[1].to(device), data_val[2].to(device)\n",
    "#         outputs_val1, outputs_val2 = net(images_val) #forward pass\n",
    "#         _, predicted_val = torch.max(outputs_val1.data, 1)\n",
    "#         predicted_val.to(device)\n",
    "#         total_val += labels_val.size(0)\n",
    "#         correct_val += (predicted_val == labels_val).sum().item()\n",
    "#         loss_val1 = criterion1(outputs_val1, labels_val)\n",
    "#         loss_val2 = criterion2(outputs_val2, other_val)\n",
    "#         loss_val = loss_val1 + loss_val2\n",
    "#         running_loss_val += loss_val.item()\n",
    "\n",
    "#     train_accuracy[epoch] += 100 * correct / total # get train data accuracy\n",
    "#     test_accuracy[epoch] += 100 * correct_val/total_val # get test data accuracy\n",
    "\n",
    "#     train_loss[epoch] += running_loss # get train data cross entropy loss\n",
    "#     test_loss[epoch] += running_loss_val # get test data cross entropy loss\n",
    "\n",
    "#     writer.add_scalar('accuracy', train_accuracy[epoch], epoch)\n",
    "#     writer2.add_scalar('accuracy', test_accuracy[epoch], epoch)\n",
    "  \n"
   ]
  },
  {
   "cell_type": "code",
   "execution_count": null,
   "metadata": {
    "colab": {
     "base_uri": "https://localhost:8080/",
     "height": 1000,
     "referenced_widgets": [
      "79ac695bda8c4f09bfedfae6f3e3b04c",
      "0a1d20a1e70045d796a1f089e7d12d1a",
      "f1335f4cb0ca42729463a2cb6c37841e",
      "a15b2da11e33437db3bf22a62736c292",
      "4deb17aa13734dafb14c95416bbe27ee",
      "0d13f2610955403d898e63517fd7db00",
      "5a8e3e837fd74e5ab7f30f1ddf6503e1",
      "cd10a7a201f14e98ae59063a523ec163"
     ]
    },
    "executionInfo": {
     "elapsed": 1829,
     "status": "error",
     "timestamp": 1619492141545,
     "user": {
      "displayName": "Ben Perkins",
      "photoUrl": "https://lh3.googleusercontent.com/a-/AOh14GhDjhuCHr7EdkjRfINqQZaY91uAjiGApM1VtuTAiA=s64",
      "userId": "05410841608219003122"
     },
     "user_tz": 240
    },
    "id": "Njq3un4n3kpe",
    "outputId": "6cf0edee-cfd0-43f0-c939-542018135bd1"
   },
   "outputs": [
    {
     "data": {
      "application/vnd.jupyter.widget-view+json": {
       "model_id": "79ac695bda8c4f09bfedfae6f3e3b04c",
       "version_major": 2,
       "version_minor": 0
      },
      "text/plain": [
       "HBox(children=(FloatProgress(value=0.0, max=10.0), HTML(value='')))"
      ]
     },
     "metadata": {
      "tags": []
     },
     "output_type": "display_data"
    },
    {
     "ename": "RuntimeError",
     "evalue": "ignored",
     "output_type": "error",
     "traceback": [
      "\u001b[0;31m---------------------------------------------------------------------------\u001b[0m",
      "\u001b[0;31mRuntimeError\u001b[0m                              Traceback (most recent call last)",
      "\u001b[0;32m<ipython-input-108-0e9851e3d040>\u001b[0m in \u001b[0;36m<module>\u001b[0;34m()\u001b[0m\n\u001b[0;32m----> 1\u001b[0;31m \u001b[0mtrain\u001b[0m\u001b[0;34m(\u001b[0m\u001b[0mmodelnet\u001b[0m\u001b[0;34m,\u001b[0m \u001b[0mtrain_dataloader\u001b[0m\u001b[0;34m,\u001b[0m \u001b[0mtest_dataloader\u001b[0m\u001b[0;34m,\u001b[0m \u001b[0;36m10\u001b[0m\u001b[0;34m,\u001b[0m \u001b[0mlog_dir1\u001b[0m\u001b[0;34m=\u001b[0m\u001b[0;32mNone\u001b[0m\u001b[0;34m,\u001b[0m \u001b[0mlog_dir2\u001b[0m\u001b[0;34m=\u001b[0m\u001b[0;32mNone\u001b[0m\u001b[0;34m)\u001b[0m\u001b[0;34m\u001b[0m\u001b[0;34m\u001b[0m\u001b[0m\n\u001b[0m",
      "\u001b[0;32m<ipython-input-107-b1b4b4369864>\u001b[0m in \u001b[0;36mtrain\u001b[0;34m(net, trainloader, testloader, epochs, log_dir1, log_dir2)\u001b[0m\n\u001b[1;32m     35\u001b[0m         \u001b[0moptimizer\u001b[0m\u001b[0;34m.\u001b[0m\u001b[0mzero_grad\u001b[0m\u001b[0;34m(\u001b[0m\u001b[0;34m)\u001b[0m\u001b[0;34m\u001b[0m\u001b[0;34m\u001b[0m\u001b[0m\n\u001b[1;32m     36\u001b[0m \u001b[0;34m\u001b[0m\u001b[0m\n\u001b[0;32m---> 37\u001b[0;31m         \u001b[0moutputs1\u001b[0m\u001b[0;34m,\u001b[0m \u001b[0moutputs2\u001b[0m \u001b[0;34m=\u001b[0m \u001b[0mnet\u001b[0m\u001b[0;34m(\u001b[0m\u001b[0minputs\u001b[0m\u001b[0;34m)\u001b[0m \u001b[0;31m#forward pass # classification # regression\u001b[0m\u001b[0;34m\u001b[0m\u001b[0;34m\u001b[0m\u001b[0m\n\u001b[0m\u001b[1;32m     38\u001b[0m \u001b[0;34m\u001b[0m\u001b[0m\n\u001b[1;32m     39\u001b[0m         \u001b[0m_\u001b[0m\u001b[0;34m,\u001b[0m \u001b[0mpredicted\u001b[0m \u001b[0;34m=\u001b[0m \u001b[0mtorch\u001b[0m\u001b[0;34m.\u001b[0m\u001b[0mmax\u001b[0m\u001b[0;34m(\u001b[0m\u001b[0moutputs1\u001b[0m\u001b[0;34m.\u001b[0m\u001b[0mdata\u001b[0m\u001b[0;34m,\u001b[0m\u001b[0;36m1\u001b[0m\u001b[0;34m)\u001b[0m \u001b[0;31m#class\u001b[0m\u001b[0;34m\u001b[0m\u001b[0;34m\u001b[0m\u001b[0m\n",
      "\u001b[0;32m/usr/local/lib/python3.7/dist-packages/torch/nn/modules/module.py\u001b[0m in \u001b[0;36m_call_impl\u001b[0;34m(self, *input, **kwargs)\u001b[0m\n\u001b[1;32m    887\u001b[0m             \u001b[0mresult\u001b[0m \u001b[0;34m=\u001b[0m \u001b[0mself\u001b[0m\u001b[0;34m.\u001b[0m\u001b[0m_slow_forward\u001b[0m\u001b[0;34m(\u001b[0m\u001b[0;34m*\u001b[0m\u001b[0minput\u001b[0m\u001b[0;34m,\u001b[0m \u001b[0;34m**\u001b[0m\u001b[0mkwargs\u001b[0m\u001b[0;34m)\u001b[0m\u001b[0;34m\u001b[0m\u001b[0;34m\u001b[0m\u001b[0m\n\u001b[1;32m    888\u001b[0m         \u001b[0;32melse\u001b[0m\u001b[0;34m:\u001b[0m\u001b[0;34m\u001b[0m\u001b[0;34m\u001b[0m\u001b[0m\n\u001b[0;32m--> 889\u001b[0;31m             \u001b[0mresult\u001b[0m \u001b[0;34m=\u001b[0m \u001b[0mself\u001b[0m\u001b[0;34m.\u001b[0m\u001b[0mforward\u001b[0m\u001b[0;34m(\u001b[0m\u001b[0;34m*\u001b[0m\u001b[0minput\u001b[0m\u001b[0;34m,\u001b[0m \u001b[0;34m**\u001b[0m\u001b[0mkwargs\u001b[0m\u001b[0;34m)\u001b[0m\u001b[0;34m\u001b[0m\u001b[0;34m\u001b[0m\u001b[0m\n\u001b[0m\u001b[1;32m    890\u001b[0m         for hook in itertools.chain(\n\u001b[1;32m    891\u001b[0m                 \u001b[0m_global_forward_hooks\u001b[0m\u001b[0;34m.\u001b[0m\u001b[0mvalues\u001b[0m\u001b[0;34m(\u001b[0m\u001b[0;34m)\u001b[0m\u001b[0;34m,\u001b[0m\u001b[0;34m\u001b[0m\u001b[0;34m\u001b[0m\u001b[0m\n",
      "\u001b[0;32m<ipython-input-104-351f6fa242e5>\u001b[0m in \u001b[0;36mforward\u001b[0;34m(self, x)\u001b[0m\n\u001b[1;32m     15\u001b[0m     \u001b[0mx\u001b[0m \u001b[0;34m=\u001b[0m \u001b[0mself\u001b[0m\u001b[0;34m.\u001b[0m\u001b[0mpool1\u001b[0m\u001b[0;34m(\u001b[0m\u001b[0mx\u001b[0m\u001b[0;34m)\u001b[0m\u001b[0;34m\u001b[0m\u001b[0;34m\u001b[0m\u001b[0m\n\u001b[1;32m     16\u001b[0m \u001b[0;34m\u001b[0m\u001b[0m\n\u001b[0;32m---> 17\u001b[0;31m     \u001b[0mx1\u001b[0m \u001b[0;34m=\u001b[0m \u001b[0mF\u001b[0m\u001b[0;34m.\u001b[0m\u001b[0mrelu\u001b[0m\u001b[0;34m(\u001b[0m\u001b[0mself\u001b[0m\u001b[0;34m.\u001b[0m\u001b[0mfc_classification\u001b[0m\u001b[0;34m(\u001b[0m\u001b[0mx\u001b[0m\u001b[0;34m)\u001b[0m\u001b[0;34m)\u001b[0m\u001b[0;34m\u001b[0m\u001b[0;34m\u001b[0m\u001b[0m\n\u001b[0m\u001b[1;32m     18\u001b[0m     \u001b[0mx2\u001b[0m \u001b[0;34m=\u001b[0m \u001b[0mF\u001b[0m\u001b[0;34m.\u001b[0m\u001b[0mlog_softmax\u001b[0m\u001b[0;34m(\u001b[0m\u001b[0mself\u001b[0m\u001b[0;34m.\u001b[0m\u001b[0mout_classification\u001b[0m\u001b[0;34m(\u001b[0m\u001b[0mx1\u001b[0m\u001b[0;34m)\u001b[0m\u001b[0;34m,\u001b[0m \u001b[0mdim\u001b[0m\u001b[0;34m=\u001b[0m\u001b[0;36m1\u001b[0m\u001b[0;34m)\u001b[0m\u001b[0;34m\u001b[0m\u001b[0;34m\u001b[0m\u001b[0m\n\u001b[1;32m     19\u001b[0m \u001b[0;34m\u001b[0m\u001b[0m\n",
      "\u001b[0;32m/usr/local/lib/python3.7/dist-packages/torch/nn/modules/module.py\u001b[0m in \u001b[0;36m_call_impl\u001b[0;34m(self, *input, **kwargs)\u001b[0m\n\u001b[1;32m    887\u001b[0m             \u001b[0mresult\u001b[0m \u001b[0;34m=\u001b[0m \u001b[0mself\u001b[0m\u001b[0;34m.\u001b[0m\u001b[0m_slow_forward\u001b[0m\u001b[0;34m(\u001b[0m\u001b[0;34m*\u001b[0m\u001b[0minput\u001b[0m\u001b[0;34m,\u001b[0m \u001b[0;34m**\u001b[0m\u001b[0mkwargs\u001b[0m\u001b[0;34m)\u001b[0m\u001b[0;34m\u001b[0m\u001b[0;34m\u001b[0m\u001b[0m\n\u001b[1;32m    888\u001b[0m         \u001b[0;32melse\u001b[0m\u001b[0;34m:\u001b[0m\u001b[0;34m\u001b[0m\u001b[0;34m\u001b[0m\u001b[0m\n\u001b[0;32m--> 889\u001b[0;31m             \u001b[0mresult\u001b[0m \u001b[0;34m=\u001b[0m \u001b[0mself\u001b[0m\u001b[0;34m.\u001b[0m\u001b[0mforward\u001b[0m\u001b[0;34m(\u001b[0m\u001b[0;34m*\u001b[0m\u001b[0minput\u001b[0m\u001b[0;34m,\u001b[0m \u001b[0;34m**\u001b[0m\u001b[0mkwargs\u001b[0m\u001b[0;34m)\u001b[0m\u001b[0;34m\u001b[0m\u001b[0;34m\u001b[0m\u001b[0m\n\u001b[0m\u001b[1;32m    890\u001b[0m         for hook in itertools.chain(\n\u001b[1;32m    891\u001b[0m                 \u001b[0m_global_forward_hooks\u001b[0m\u001b[0;34m.\u001b[0m\u001b[0mvalues\u001b[0m\u001b[0;34m(\u001b[0m\u001b[0;34m)\u001b[0m\u001b[0;34m,\u001b[0m\u001b[0;34m\u001b[0m\u001b[0;34m\u001b[0m\u001b[0m\n",
      "\u001b[0;32m/usr/local/lib/python3.7/dist-packages/torch/nn/modules/linear.py\u001b[0m in \u001b[0;36mforward\u001b[0;34m(self, input)\u001b[0m\n\u001b[1;32m     92\u001b[0m \u001b[0;34m\u001b[0m\u001b[0m\n\u001b[1;32m     93\u001b[0m     \u001b[0;32mdef\u001b[0m \u001b[0mforward\u001b[0m\u001b[0;34m(\u001b[0m\u001b[0mself\u001b[0m\u001b[0;34m,\u001b[0m \u001b[0minput\u001b[0m\u001b[0;34m:\u001b[0m \u001b[0mTensor\u001b[0m\u001b[0;34m)\u001b[0m \u001b[0;34m->\u001b[0m \u001b[0mTensor\u001b[0m\u001b[0;34m:\u001b[0m\u001b[0;34m\u001b[0m\u001b[0;34m\u001b[0m\u001b[0m\n\u001b[0;32m---> 94\u001b[0;31m         \u001b[0;32mreturn\u001b[0m \u001b[0mF\u001b[0m\u001b[0;34m.\u001b[0m\u001b[0mlinear\u001b[0m\u001b[0;34m(\u001b[0m\u001b[0minput\u001b[0m\u001b[0;34m,\u001b[0m \u001b[0mself\u001b[0m\u001b[0;34m.\u001b[0m\u001b[0mweight\u001b[0m\u001b[0;34m,\u001b[0m \u001b[0mself\u001b[0m\u001b[0;34m.\u001b[0m\u001b[0mbias\u001b[0m\u001b[0;34m)\u001b[0m\u001b[0;34m\u001b[0m\u001b[0;34m\u001b[0m\u001b[0m\n\u001b[0m\u001b[1;32m     95\u001b[0m \u001b[0;34m\u001b[0m\u001b[0m\n\u001b[1;32m     96\u001b[0m     \u001b[0;32mdef\u001b[0m \u001b[0mextra_repr\u001b[0m\u001b[0;34m(\u001b[0m\u001b[0mself\u001b[0m\u001b[0;34m)\u001b[0m \u001b[0;34m->\u001b[0m \u001b[0mstr\u001b[0m\u001b[0;34m:\u001b[0m\u001b[0;34m\u001b[0m\u001b[0;34m\u001b[0m\u001b[0m\n",
      "\u001b[0;32m/usr/local/lib/python3.7/dist-packages/torch/nn/functional.py\u001b[0m in \u001b[0;36mlinear\u001b[0;34m(input, weight, bias)\u001b[0m\n\u001b[1;32m   1751\u001b[0m     \u001b[0;32mif\u001b[0m \u001b[0mhas_torch_function_variadic\u001b[0m\u001b[0;34m(\u001b[0m\u001b[0minput\u001b[0m\u001b[0;34m,\u001b[0m \u001b[0mweight\u001b[0m\u001b[0;34m)\u001b[0m\u001b[0;34m:\u001b[0m\u001b[0;34m\u001b[0m\u001b[0;34m\u001b[0m\u001b[0m\n\u001b[1;32m   1752\u001b[0m         \u001b[0;32mreturn\u001b[0m \u001b[0mhandle_torch_function\u001b[0m\u001b[0;34m(\u001b[0m\u001b[0mlinear\u001b[0m\u001b[0;34m,\u001b[0m \u001b[0;34m(\u001b[0m\u001b[0minput\u001b[0m\u001b[0;34m,\u001b[0m \u001b[0mweight\u001b[0m\u001b[0;34m)\u001b[0m\u001b[0;34m,\u001b[0m \u001b[0minput\u001b[0m\u001b[0;34m,\u001b[0m \u001b[0mweight\u001b[0m\u001b[0;34m,\u001b[0m \u001b[0mbias\u001b[0m\u001b[0;34m=\u001b[0m\u001b[0mbias\u001b[0m\u001b[0;34m)\u001b[0m\u001b[0;34m\u001b[0m\u001b[0;34m\u001b[0m\u001b[0m\n\u001b[0;32m-> 1753\u001b[0;31m     \u001b[0;32mreturn\u001b[0m \u001b[0mtorch\u001b[0m\u001b[0;34m.\u001b[0m\u001b[0m_C\u001b[0m\u001b[0;34m.\u001b[0m\u001b[0m_nn\u001b[0m\u001b[0;34m.\u001b[0m\u001b[0mlinear\u001b[0m\u001b[0;34m(\u001b[0m\u001b[0minput\u001b[0m\u001b[0;34m,\u001b[0m \u001b[0mweight\u001b[0m\u001b[0;34m,\u001b[0m \u001b[0mbias\u001b[0m\u001b[0;34m)\u001b[0m\u001b[0;34m\u001b[0m\u001b[0;34m\u001b[0m\u001b[0m\n\u001b[0m\u001b[1;32m   1754\u001b[0m \u001b[0;34m\u001b[0m\u001b[0m\n\u001b[1;32m   1755\u001b[0m \u001b[0;34m\u001b[0m\u001b[0m\n",
      "\u001b[0;31mRuntimeError\u001b[0m: mat1 dim 1 must match mat2 dim 0"
     ]
    }
   ],
   "source": [
    "train(modelnet, train_dataloader, test_dataloader, 10, log_dir1=None, log_dir2=None)"
   ]
  },
  {
   "cell_type": "code",
   "execution_count": null,
   "metadata": {
    "id": "Nc9NYlh5oNR8"
   },
   "outputs": [],
   "source": [
    "# def train(epochs):\n",
    "#     best_acc = 0.0\n",
    "\n",
    "#     for epoch in range(epochs):\n",
    "#         modelnet.train()\n",
    "#         train_acc = 0.0\n",
    "#         train_loss = 0.0\n",
    "#         for i, (images, labels) in enumerate(train_dataloader):\n",
    "#             if torch.cuda.is_available():\n",
    "#                 images = Variable(images.cuda())\n",
    "#                 labels = Variable(labels(i)[1]['labels'].cuda())\n",
    "\n",
    "#             optimize.zero_grad()\n",
    "#             outputs = modelnet(images)\n",
    "#             loss = loss_fn(outputs, labels)\n",
    "#             loss.backward()\n",
    "\n",
    "#             optimize.step()\n",
    "\n",
    "#             train_loss += loss.cpu().data[0] + images.size(0)\n",
    "#             _, prediction = torch.max(outputs.data, 1)\n",
    "\n",
    "#             train_acc += torch.sum(prediction == labels.data)\n",
    "        \n",
    "#         train_acc = train_acc / 12966\n",
    "#         train_loss = train_loss / 12996\n",
    "\n",
    "#         test_acc = test()\n",
    "\n",
    "#         if test_acc > best_acc:\n",
    "#             save_models(epoch)\n",
    "#             best_acc = test_acc\n",
    "\n",
    "#         print(\"Epoch {}, Train Acc: {} , TrainLoss: {}, Test Acc: {}\".format(epoch, train_acc, train_loss))"
   ]
  },
  {
   "cell_type": "code",
   "execution_count": null,
   "metadata": {
    "colab": {
     "base_uri": "https://localhost:8080/",
     "height": 186
    },
    "executionInfo": {
     "elapsed": 299,
     "status": "error",
     "timestamp": 1619490988387,
     "user": {
      "displayName": "Ben Perkins",
      "photoUrl": "https://lh3.googleusercontent.com/a-/AOh14GhDjhuCHr7EdkjRfINqQZaY91uAjiGApM1VtuTAiA=s64",
      "userId": "05410841608219003122"
     },
     "user_tz": 240
    },
    "id": "SrJijqdoDJYG",
    "outputId": "494f5925-0112-4638-f581-0627a0d6d077"
   },
   "outputs": [
    {
     "ename": "TypeError",
     "evalue": "ignored",
     "output_type": "error",
     "traceback": [
      "\u001b[0;31m---------------------------------------------------------------------------\u001b[0m",
      "\u001b[0;31mTypeError\u001b[0m                                 Traceback (most recent call last)",
      "\u001b[0;32m<ipython-input-66-30e373773f05>\u001b[0m in \u001b[0;36m<module>\u001b[0;34m()\u001b[0m\n\u001b[1;32m      1\u001b[0m \u001b[0;32mif\u001b[0m \u001b[0m__name__\u001b[0m \u001b[0;34m==\u001b[0m \u001b[0;34m\"__main__\"\u001b[0m\u001b[0;34m:\u001b[0m\u001b[0;34m\u001b[0m\u001b[0;34m\u001b[0m\u001b[0m\n\u001b[0;32m----> 2\u001b[0;31m     \u001b[0mtrain\u001b[0m\u001b[0;34m(\u001b[0m\u001b[0mtrain_dataloader\u001b[0m\u001b[0;34m,\u001b[0m \u001b[0mtest_dataloader\u001b[0m\u001b[0;34m,\u001b[0m \u001b[0;36m20\u001b[0m\u001b[0;34m)\u001b[0m\u001b[0;34m\u001b[0m\u001b[0;34m\u001b[0m\u001b[0m\n\u001b[0m",
      "\u001b[0;31mTypeError\u001b[0m: train() missing 1 required positional argument: 'epochs'"
     ]
    }
   ],
   "source": [
    "if __name__ == \"__main__\":\n",
    "    train(train_dataloader, test_dataloader, 20)"
   ]
  },
  {
   "cell_type": "code",
   "execution_count": null,
   "metadata": {
    "id": "mRMs73sUEWUc"
   },
   "outputs": [],
   "source": []
  }
 ],
 "metadata": {
  "accelerator": "GPU",
  "colab": {
   "authorship_tag": "ABX9TyPMxSgDpN5K1Z6ep5qGeuvI",
   "collapsed_sections": [
    "9JBwlBy6he4n",
    "wexEbAmMjToN"
   ],
   "name": "Bens-FritzAI_Inspired-CatsNDogs02-PyTorch.ipynb",
   "provenance": [
    {
     "file_id": "1zZegE6Nur_R-n9KNLhH7vvuV7v9nR7jo",
     "timestamp": 1619565557142
    },
    {
     "file_id": "1C4v8s7bC3fP_Wu5IJGP9qTeXPA4VbwsF",
     "timestamp": 1619534391167
    }
   ]
  },
  "kernelspec": {
   "display_name": "Python 3",
   "language": "python",
   "name": "python3"
  },
  "language_info": {
   "codemirror_mode": {
    "name": "ipython",
    "version": 3
   },
   "file_extension": ".py",
   "mimetype": "text/x-python",
   "name": "python",
   "nbconvert_exporter": "python",
   "pygments_lexer": "ipython3",
   "version": "3.7.7"
  },
  "widgets": {
   "application/vnd.jupyter.widget-state+json": {
    "0a1d20a1e70045d796a1f089e7d12d1a": {
     "model_module": "@jupyter-widgets/base",
     "model_name": "LayoutModel",
     "state": {
      "_model_module": "@jupyter-widgets/base",
      "_model_module_version": "1.2.0",
      "_model_name": "LayoutModel",
      "_view_count": null,
      "_view_module": "@jupyter-widgets/base",
      "_view_module_version": "1.2.0",
      "_view_name": "LayoutView",
      "align_content": null,
      "align_items": null,
      "align_self": null,
      "border": null,
      "bottom": null,
      "display": null,
      "flex": null,
      "flex_flow": null,
      "grid_area": null,
      "grid_auto_columns": null,
      "grid_auto_flow": null,
      "grid_auto_rows": null,
      "grid_column": null,
      "grid_gap": null,
      "grid_row": null,
      "grid_template_areas": null,
      "grid_template_columns": null,
      "grid_template_rows": null,
      "height": null,
      "justify_content": null,
      "justify_items": null,
      "left": null,
      "margin": null,
      "max_height": null,
      "max_width": null,
      "min_height": null,
      "min_width": null,
      "object_fit": null,
      "object_position": null,
      "order": null,
      "overflow": null,
      "overflow_x": null,
      "overflow_y": null,
      "padding": null,
      "right": null,
      "top": null,
      "visibility": null,
      "width": null
     }
    },
    "0d13f2610955403d898e63517fd7db00": {
     "model_module": "@jupyter-widgets/base",
     "model_name": "LayoutModel",
     "state": {
      "_model_module": "@jupyter-widgets/base",
      "_model_module_version": "1.2.0",
      "_model_name": "LayoutModel",
      "_view_count": null,
      "_view_module": "@jupyter-widgets/base",
      "_view_module_version": "1.2.0",
      "_view_name": "LayoutView",
      "align_content": null,
      "align_items": null,
      "align_self": null,
      "border": null,
      "bottom": null,
      "display": null,
      "flex": null,
      "flex_flow": null,
      "grid_area": null,
      "grid_auto_columns": null,
      "grid_auto_flow": null,
      "grid_auto_rows": null,
      "grid_column": null,
      "grid_gap": null,
      "grid_row": null,
      "grid_template_areas": null,
      "grid_template_columns": null,
      "grid_template_rows": null,
      "height": null,
      "justify_content": null,
      "justify_items": null,
      "left": null,
      "margin": null,
      "max_height": null,
      "max_width": null,
      "min_height": null,
      "min_width": null,
      "object_fit": null,
      "object_position": null,
      "order": null,
      "overflow": null,
      "overflow_x": null,
      "overflow_y": null,
      "padding": null,
      "right": null,
      "top": null,
      "visibility": null,
      "width": null
     }
    },
    "4deb17aa13734dafb14c95416bbe27ee": {
     "model_module": "@jupyter-widgets/controls",
     "model_name": "ProgressStyleModel",
     "state": {
      "_model_module": "@jupyter-widgets/controls",
      "_model_module_version": "1.5.0",
      "_model_name": "ProgressStyleModel",
      "_view_count": null,
      "_view_module": "@jupyter-widgets/base",
      "_view_module_version": "1.2.0",
      "_view_name": "StyleView",
      "bar_color": null,
      "description_width": "initial"
     }
    },
    "5a8e3e837fd74e5ab7f30f1ddf6503e1": {
     "model_module": "@jupyter-widgets/controls",
     "model_name": "DescriptionStyleModel",
     "state": {
      "_model_module": "@jupyter-widgets/controls",
      "_model_module_version": "1.5.0",
      "_model_name": "DescriptionStyleModel",
      "_view_count": null,
      "_view_module": "@jupyter-widgets/base",
      "_view_module_version": "1.2.0",
      "_view_name": "StyleView",
      "description_width": ""
     }
    },
    "79ac695bda8c4f09bfedfae6f3e3b04c": {
     "model_module": "@jupyter-widgets/controls",
     "model_name": "HBoxModel",
     "state": {
      "_dom_classes": [],
      "_model_module": "@jupyter-widgets/controls",
      "_model_module_version": "1.5.0",
      "_model_name": "HBoxModel",
      "_view_count": null,
      "_view_module": "@jupyter-widgets/controls",
      "_view_module_version": "1.5.0",
      "_view_name": "HBoxView",
      "box_style": "",
      "children": [
       "IPY_MODEL_f1335f4cb0ca42729463a2cb6c37841e",
       "IPY_MODEL_a15b2da11e33437db3bf22a62736c292"
      ],
      "layout": "IPY_MODEL_0a1d20a1e70045d796a1f089e7d12d1a"
     }
    },
    "a15b2da11e33437db3bf22a62736c292": {
     "model_module": "@jupyter-widgets/controls",
     "model_name": "HTMLModel",
     "state": {
      "_dom_classes": [],
      "_model_module": "@jupyter-widgets/controls",
      "_model_module_version": "1.5.0",
      "_model_name": "HTMLModel",
      "_view_count": null,
      "_view_module": "@jupyter-widgets/controls",
      "_view_module_version": "1.5.0",
      "_view_name": "HTMLView",
      "description": "",
      "description_tooltip": null,
      "layout": "IPY_MODEL_cd10a7a201f14e98ae59063a523ec163",
      "placeholder": "​",
      "style": "IPY_MODEL_5a8e3e837fd74e5ab7f30f1ddf6503e1",
      "value": " 0/10 [00:01&lt;?, ?it/s]"
     }
    },
    "cd10a7a201f14e98ae59063a523ec163": {
     "model_module": "@jupyter-widgets/base",
     "model_name": "LayoutModel",
     "state": {
      "_model_module": "@jupyter-widgets/base",
      "_model_module_version": "1.2.0",
      "_model_name": "LayoutModel",
      "_view_count": null,
      "_view_module": "@jupyter-widgets/base",
      "_view_module_version": "1.2.0",
      "_view_name": "LayoutView",
      "align_content": null,
      "align_items": null,
      "align_self": null,
      "border": null,
      "bottom": null,
      "display": null,
      "flex": null,
      "flex_flow": null,
      "grid_area": null,
      "grid_auto_columns": null,
      "grid_auto_flow": null,
      "grid_auto_rows": null,
      "grid_column": null,
      "grid_gap": null,
      "grid_row": null,
      "grid_template_areas": null,
      "grid_template_columns": null,
      "grid_template_rows": null,
      "height": null,
      "justify_content": null,
      "justify_items": null,
      "left": null,
      "margin": null,
      "max_height": null,
      "max_width": null,
      "min_height": null,
      "min_width": null,
      "object_fit": null,
      "object_position": null,
      "order": null,
      "overflow": null,
      "overflow_x": null,
      "overflow_y": null,
      "padding": null,
      "right": null,
      "top": null,
      "visibility": null,
      "width": null
     }
    },
    "f1335f4cb0ca42729463a2cb6c37841e": {
     "model_module": "@jupyter-widgets/controls",
     "model_name": "FloatProgressModel",
     "state": {
      "_dom_classes": [],
      "_model_module": "@jupyter-widgets/controls",
      "_model_module_version": "1.5.0",
      "_model_name": "FloatProgressModel",
      "_view_count": null,
      "_view_module": "@jupyter-widgets/controls",
      "_view_module_version": "1.5.0",
      "_view_name": "ProgressView",
      "bar_style": "danger",
      "description": "  0%",
      "description_tooltip": null,
      "layout": "IPY_MODEL_0d13f2610955403d898e63517fd7db00",
      "max": 10,
      "min": 0,
      "orientation": "horizontal",
      "style": "IPY_MODEL_4deb17aa13734dafb14c95416bbe27ee",
      "value": 0
     }
    }
   }
  }
 },
 "nbformat": 4,
 "nbformat_minor": 4
}
